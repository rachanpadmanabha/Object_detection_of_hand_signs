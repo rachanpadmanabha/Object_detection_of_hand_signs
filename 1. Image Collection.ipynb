{
 "cells": [
  {
   "cell_type": "markdown",
   "metadata": {},
   "source": [
    "# 1. Import Dependencies"
   ]
  },
  {
   "cell_type": "code",
   "execution_count": 22,
   "metadata": {},
   "outputs": [
    {
     "name": "stdout",
     "output_type": "stream",
     "text": [
      "Requirement already satisfied: opencv-python in c:\\python39\\lib\\site-packages (4.5.2.54)\n",
      "Requirement already satisfied: numpy>=1.19.3 in c:\\python39\\lib\\site-packages (from opencv-python) (1.20.3)\n"
     ]
    }
   ],
   "source": [
    "!pip install opencv-python"
   ]
  },
  {
   "cell_type": "code",
   "execution_count": 1,
   "metadata": {},
   "outputs": [],
   "source": [
    "# Import opencv\n",
    "import cv2 \n",
    "\n",
    "# Import uuid\n",
    "import uuid\n",
    "\n",
    "\n",
    "# Import Operating System\n",
    "import os\n",
    "\n",
    "# Import time\n",
    "import time"
   ]
  },
  {
   "cell_type": "markdown",
   "metadata": {},
   "source": [
    "# 2. Define Images to Collect"
   ]
  },
  {
   "cell_type": "code",
   "execution_count": 2,
   "metadata": {},
   "outputs": [],
   "source": [
    "labels = ['thumbsup', 'thumbsdown', 'thankyou', 'livelong']\n",
    "number_imgs = 5"
   ]
  },
  {
   "cell_type": "markdown",
   "metadata": {},
   "source": [
    "# 3. Setup Folders "
   ]
  },
  {
   "cell_type": "code",
   "execution_count": 3,
   "metadata": {},
   "outputs": [],
   "source": [
    "IMAGES_PATH = os.path.join('Tensorflow', 'workspace', 'images', 'collectedimages')"
   ]
  },
  {
   "cell_type": "code",
   "execution_count": 4,
   "metadata": {},
   "outputs": [],
   "source": [
    "if not os.path.exists(IMAGES_PATH):\n",
    "    if os.name == 'posix':\n",
    "        !mkdir -p {IMAGES_PATH}\n",
    "    if os.name == 'nt':\n",
    "         !mkdir {IMAGES_PATH}\n",
    "for label in labels:\n",
    "    path = os.path.join(IMAGES_PATH, label)\n",
    "    if not os.path.exists(path):\n",
    "        !mkdir {path}"
   ]
  },
  {
   "cell_type": "markdown",
   "metadata": {},
   "source": [
    "# 4. Capture Images"
   ]
  },
  {
   "cell_type": "code",
   "execution_count": 7,
   "metadata": {},
   "outputs": [
    {
     "name": "stdout",
     "output_type": "stream",
     "text": [
      "Collecting images for thumbsup\n",
      "Collecting image 0\n",
      "Collecting image 1\n",
      "Collecting image 2\n",
      "Collecting image 3\n",
      "Collecting image 4\n",
      "Collecting images for thumbsdown\n",
      "Collecting image 0\n",
      "Collecting image 1\n",
      "Collecting image 2\n",
      "Collecting image 3\n",
      "Collecting image 4\n",
      "Collecting images for thankyou\n",
      "Collecting image 0\n",
      "Collecting image 1\n",
      "Collecting image 2\n",
      "Collecting image 3\n",
      "Collecting image 4\n",
      "Collecting images for livelong\n",
      "Collecting image 0\n",
      "Collecting image 1\n",
      "Collecting image 2\n",
      "Collecting image 3\n",
      "Collecting image 4\n"
     ]
    }
   ],
   "source": [
    "#put images on your own in the respective folders or run this to activate the webcam\n",
    "for label in labels:\n",
    "    cap = cv2.VideoCapture(0) #connects to our webcam or capture device\n",
    "    print('Collecting images for {}'.format(label))\n",
    "    time.sleep(5)\n",
    "    for imgnum in range(number_imgs):\n",
    "        print('Collecting image {}'.format(imgnum))\n",
    "        ret, frame = cap.read()\n",
    "        imgname = os.path.join(IMAGES_PATH,label,label+'.'+'{}.jpg'.format(str(uuid.uuid1())))\n",
    "        cv2.imwrite(imgname, frame)\n",
    "        cv2.imshow('frame', frame)\n",
    "        time.sleep(2)\n",
    "\n",
    "        if cv2.waitKey(1) & 0xFF == ord('q'):\n",
    "            break\n",
    "cap.release()\n",
    "cv2.destroyAllWindows()"
   ]
  },
  {
   "cell_type": "markdown",
   "metadata": {},
   "source": [
    "# 5. Image Labelling"
   ]
  },
  {
   "cell_type": "code",
   "execution_count": 2,
   "metadata": {},
   "outputs": [
    {
     "name": "stdout",
     "output_type": "stream",
     "text": [
      "Requirement already satisfied: pyqt5 in d:\\tfodcourse\\tfod\\lib\\site-packages (5.15.4)\n",
      "Requirement already satisfied: lxml in d:\\tfodcourse\\tfod\\lib\\site-packages (4.6.3)\n",
      "Requirement already satisfied: PyQt5-sip<13,>=12.8 in d:\\tfodcourse\\tfod\\lib\\site-packages (from pyqt5) (12.9.0)\n",
      "Requirement already satisfied: PyQt5-Qt5>=5.15 in d:\\tfodcourse\\tfod\\lib\\site-packages (from pyqt5) (5.15.2)\n"
     ]
    }
   ],
   "source": [
    "!pip install --upgrade pyqt5 lxml"
   ]
  },
  {
   "cell_type": "code",
   "execution_count": 4,
   "metadata": {},
   "outputs": [
    {
     "data": {
      "text/plain": [
       "'Tensorflow\\\\labelimg'"
      ]
     },
     "execution_count": 4,
     "metadata": {},
     "output_type": "execute_result"
    }
   ],
   "source": [
    "LABELIMG_PATH = os.path.join('Tensorflow', 'labelimg')\n",
    "LABELIMG_PATH"
   ]
  },
  {
   "cell_type": "code",
   "execution_count": 29,
   "metadata": {},
   "outputs": [],
   "source": [
    "if not os.path.exists(LABELIMG_PATH):\n",
    "    !mkdir {LABELIMG_PATH}\n",
    "    !git clone https://github.com/tzutalin/labelImg {LABELIMG_PATH}"
   ]
  },
  {
   "cell_type": "code",
   "execution_count": 5,
   "metadata": {},
   "outputs": [],
   "source": [
    "if os.name == 'posix':\n",
    "    !make qt5py3\n",
    "if os.name =='nt':\n",
    "    !cd {LABELIMG_PATH} && D:\\TFODCourse\\tfod\\Scripts\\pyrcc5 -o libs/resources.py resources.qrc "
   ]
  },
  {
   "cell_type": "code",
   "execution_count": 12,
   "metadata": {},
   "outputs": [
    {
     "name": "stdout",
     "output_type": "stream",
     "text": [
      "Image:D:\\Age\\Tensorflow\\workspace\\images\\train_1\\pexels-photo-3276302.jpeg -> Annotation:D:/Age/Tensorflow/workspace/images/train_1/pexels-photo-3276302.xml\n",
      "Image:D:\\Age\\Tensorflow\\workspace\\images\\train_1\\pexels-photo-3272493.jpeg -> Annotation:D:/Age/Tensorflow/workspace/images/train_1/pexels-photo-3272493.xml\n"
     ]
    },
    {
     "name": "stderr",
     "output_type": "stream",
     "text": [
      "qt.gui.icc: fromIccProfile: failed minimal tag size sanity\n",
      "qt.gui.icc: fromIccProfile: failed minimal tag size sanity\n",
      "qt.gui.icc: fromIccProfile: failed minimal tag size sanity\n",
      "qt.gui.icc: fromIccProfile: failed minimal tag size sanity\n",
      "qt.gui.icc: fromIccProfile: failed minimal tag size sanity\n",
      "qt.gui.icc: fromIccProfile: failed minimal tag size sanity\n",
      "qt.gui.icc: fromIccProfile: failed minimal tag size sanity\n",
      "qt.gui.icc: fromIccProfile: failed minimal tag size sanity\n",
      "qt.gui.icc: fromIccProfile: failed minimal tag size sanity\n",
      "qt.gui.icc: fromIccProfile: failed minimal tag size sanity\n",
      "qt.gui.icc: fromIccProfile: failed minimal tag size sanity\n",
      "qt.gui.icc: fromIccProfile: failed minimal tag size sanity\n",
      "qt.gui.icc: fromIccProfile: failed minimal tag size sanity\n",
      "qt.gui.icc: fromIccProfile: failed minimal tag size sanity\n",
      "qt.gui.icc: fromIccProfile: failed minimal tag size sanity\n",
      "qt.gui.icc: fromIccProfile: failed minimal tag size sanity\n",
      "qt.gui.icc: fromIccProfile: failed minimal tag size sanity\n",
      "qt.gui.icc: fromIccProfile: failed minimal tag size sanity\n",
      "qt.gui.icc: fromIccProfile: failed minimal tag size sanity\n",
      "qt.gui.icc: fromIccProfile: failed minimal tag size sanity\n",
      "qt.gui.icc: fromIccProfile: failed minimal tag size sanity\n",
      "qt.gui.icc: fromIccProfile: failed minimal tag size sanity\n",
      "qt.gui.icc: fromIccProfile: failed minimal tag size sanity\n",
      "qt.gui.icc: fromIccProfile: failed minimal tag size sanity\n",
      "qt.gui.icc: fromIccProfile: failed minimal tag size sanity\n",
      "qt.gui.icc: fromIccProfile: failed minimal tag size sanity\n",
      "qt.gui.icc: fromIccProfile: failed minimal tag size sanity\n",
      "qt.gui.icc: fromIccProfile: failed minimal tag size sanity\n",
      "qt.gui.icc: fromIccProfile: failed minimal tag size sanity\n",
      "qt.gui.icc: fromIccProfile: failed minimal tag size sanity\n",
      "qt.gui.icc: fromIccProfile: failed minimal tag size sanity\n",
      "qt.gui.icc: fromIccProfile: failed minimal tag size sanity\n",
      "qt.gui.icc: fromIccProfile: failed minimal tag size sanity\n",
      "qt.gui.icc: fromIccProfile: failed minimal tag size sanity\n",
      "qt.gui.icc: fromIccProfile: failed minimal tag size sanity\n",
      "qt.gui.icc: fromIccProfile: failed minimal tag size sanity\n",
      "qt.gui.icc: fromIccProfile: failed minimal tag size sanity\n",
      "qt.gui.icc: fromIccProfile: failed minimal tag size sanity\n",
      "qt.gui.icc: fromIccProfile: failed minimal tag size sanity\n",
      "qt.gui.icc: fromIccProfile: failed minimal tag size sanity\n",
      "qt.gui.icc: fromIccProfile: failed minimal tag size sanity\n",
      "qt.gui.icc: fromIccProfile: failed minimal tag size sanity\n",
      "qt.gui.icc: fromIccProfile: failed minimal tag size sanity\n",
      "qt.gui.icc: fromIccProfile: failed minimal tag size sanity\n",
      "qt.gui.icc: fromIccProfile: failed minimal tag size sanity\n",
      "qt.gui.icc: fromIccProfile: failed minimal tag size sanity\n",
      "qt.gui.icc: fromIccProfile: failed minimal tag size sanity\n"
     ]
    }
   ],
   "source": [
    "!cd {LABELIMG_PATH} && python labelImg.py"
   ]
  },
  {
   "cell_type": "markdown",
   "metadata": {},
   "source": [
    "# 6. Move them into a Training and Testing Partition"
   ]
  },
  {
   "cell_type": "markdown",
   "metadata": {},
   "source": [
    "# OPTIONAL - 7. Compress them for Colab Training"
   ]
  },
  {
   "cell_type": "code",
   "execution_count": 32,
   "metadata": {},
   "outputs": [],
   "source": [
    "TRAIN_PATH = os.path.join('Tensorflow', 'workspace', 'images', 'train')\n",
    "TEST_PATH = os.path.join('Tensorflow', 'workspace', 'images', 'test')\n",
    "ARCHIVE_PATH = os.path.join('Tensorflow', 'workspace', 'images', 'archive.tar.gz')"
   ]
  },
  {
   "cell_type": "code",
   "execution_count": 21,
   "metadata": {},
   "outputs": [],
   "source": [
    "!tar -czf {ARCHIVE_PATH} {TRAIN_PATH} {TEST_PATH}"
   ]
  },
  {
   "cell_type": "code",
   "execution_count": null,
   "metadata": {},
   "outputs": [],
   "source": []
  }
 ],
 "metadata": {
  "kernelspec": {
   "display_name": "tfod",
   "language": "python",
   "name": "tfod"
  },
  "language_info": {
   "codemirror_mode": {
    "name": "ipython",
    "version": 3
   },
   "file_extension": ".py",
   "mimetype": "text/x-python",
   "name": "python",
   "nbconvert_exporter": "python",
   "pygments_lexer": "ipython3",
   "version": "3.9.5"
  }
 },
 "nbformat": 4,
 "nbformat_minor": 2
}
